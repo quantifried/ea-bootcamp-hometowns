{
 "cells": [
  {
   "cell_type": "markdown",
   "id": "9fd59814-0668-4cc5-af3b-a0984c9d58c3",
   "metadata": {},
   "source": [
    "## Location\n",
    "47.6061 &deg; N, 122.3328 &deg; W\n",
    "\n",
    "## Population\n",
    "[737,015](https://data.census.gov/profile/Seattle_city,_Washington?g=160XX00US5363000#populations-and-people)\n",
    "\n",
    "## Landmark\n",
    "![Mount Rainier](https://www.nps.gov/npgallery/GetAsset/ca4c9985-155d-4519-3e96-4eae6399deac/proxy/hires?)\n",
    "Mount Rainier, majestic as ever\n"
   ]
  },
  {
   "cell_type": "code",
   "execution_count": null,
   "id": "6ad3bc55-5908-4f4b-9201-c2c2850ddd6d",
   "metadata": {},
   "outputs": [],
   "source": []
  }
 ],
 "metadata": {
  "kernelspec": {
   "display_name": "Python 3 (ipykernel)",
   "language": "python",
   "name": "python3"
  },
  "language_info": {
   "codemirror_mode": {
    "name": "ipython",
    "version": 3
   },
   "file_extension": ".py",
   "mimetype": "text/x-python",
   "name": "python",
   "nbconvert_exporter": "python",
   "pygments_lexer": "ipython3",
   "version": "3.11.10"
  }
 },
 "nbformat": 4,
 "nbformat_minor": 5
}
